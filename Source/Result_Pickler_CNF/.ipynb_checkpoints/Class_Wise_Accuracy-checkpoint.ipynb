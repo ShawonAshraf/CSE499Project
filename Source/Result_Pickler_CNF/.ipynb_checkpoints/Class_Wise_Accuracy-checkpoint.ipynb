{
 "cells": [
  {
   "cell_type": "code",
   "execution_count": 1,
   "metadata": {},
   "outputs": [],
   "source": [
    "from sklearn.metrics import confusion_matrix, accuracy_score\n",
    "import seaborn as sn\n",
    "import pandas as pd\n",
    "import matplotlib.pyplot as plt\n",
    "import os\n",
    "import pickle\n",
    "\n",
    "%matplotlib inline"
   ]
  },
  {
   "cell_type": "code",
   "execution_count": 2,
   "metadata": {},
   "outputs": [],
   "source": [
    "IMG_DIR = \"img_test\"\n",
    "\n",
    "\n",
    "def get_list_by_class(className):\n",
    "    images_in_dir = os.listdir(IMG_DIR)\n",
    "\n",
    "    # add paths\n",
    "    image_path_list = []\n",
    "    for i in images_in_dir:\n",
    "        if className in i:\n",
    "            image_path_list.append(os.path.join(IMG_DIR, i))\n",
    "    \n",
    "    return image_path_list\n"
   ]
  },
  {
   "cell_type": "code",
   "execution_count": 3,
   "metadata": {},
   "outputs": [],
   "source": [
    "pickle_dir = \"inception_pickled\"\n",
    "ground_truth_file = os.path.join(pickle_dir, \"ground_truth.pickle\")\n",
    "prediction_file = os.path.join(pickle_dir, \"inception_predition.pickle\") # yeah file name typo :("
   ]
  },
  {
   "cell_type": "code",
   "execution_count": 4,
   "metadata": {},
   "outputs": [],
   "source": [
    "def load_from_pickle(pickle_file):\n",
    "    file_handle = open(pickle_file, \"rb\")\n",
    "    data_pickled = pickle.load(file_handle)\n",
    "    \n",
    "    file_handle.close()\n",
    "    return data_pickled"
   ]
  },
  {
   "cell_type": "code",
   "execution_count": 5,
   "metadata": {},
   "outputs": [],
   "source": [
    "ground_truth = load_from_pickle(ground_truth_file)\n",
    "predictions = load_from_pickle(prediction_file)"
   ]
  },
  {
   "cell_type": "code",
   "execution_count": 6,
   "metadata": {},
   "outputs": [],
   "source": [
    "def get_cnf_acuracy(className):\n",
    "    y_true = []\n",
    "    y_pred = []\n",
    "    ac_file_list = []\n",
    "    \n",
    "    image_path_list = get_list_by_class(className=className)\n",
    "\n",
    "    # load the arrays\n",
    "    for image_path in image_path_list:\n",
    "        try:\n",
    "            y_true.append(ground_truth[image_path])\n",
    "            y_pred.append(predictions[image_path])\n",
    "            ac_file_list.append(image_path)\n",
    "        except KeyError as e:\n",
    "            pass\n",
    "        \n",
    "    print(\"Number of files : {}\".format(len(ac_file_list)))\n",
    "    accuracy = accuracy_score(y_true, y_pred)\n",
    "    \n",
    "    return accuracy"
   ]
  },
  {
   "cell_type": "code",
   "execution_count": 7,
   "metadata": {},
   "outputs": [],
   "source": [
    "classNames = [\"mango\", \"banana\", \"apple\", \"orange\" ]   "
   ]
  },
  {
   "cell_type": "markdown",
   "metadata": {},
   "source": [
    "### Mango"
   ]
  },
  {
   "cell_type": "code",
   "execution_count": 8,
   "metadata": {},
   "outputs": [
    {
     "name": "stdout",
     "output_type": "stream",
     "text": [
      "Number of files : 293\n"
     ]
    }
   ],
   "source": [
    "acc = get_cnf_acuracy(\"mango\")"
   ]
  },
  {
   "cell_type": "code",
   "execution_count": 9,
   "metadata": {},
   "outputs": [
    {
     "name": "stdout",
     "output_type": "stream",
     "text": [
      "0.962457337884\n"
     ]
    }
   ],
   "source": [
    "print(acc)"
   ]
  },
  {
   "cell_type": "markdown",
   "metadata": {},
   "source": [
    "### Banana"
   ]
  },
  {
   "cell_type": "code",
   "execution_count": 10,
   "metadata": {},
   "outputs": [
    {
     "name": "stdout",
     "output_type": "stream",
     "text": [
      "Number of files : 313\n",
      "0.97124600639\n"
     ]
    }
   ],
   "source": [
    "acc = get_cnf_acuracy(\"banana\")\n",
    "print(acc)"
   ]
  },
  {
   "cell_type": "markdown",
   "metadata": {},
   "source": [
    "### Apple"
   ]
  },
  {
   "cell_type": "code",
   "execution_count": 11,
   "metadata": {},
   "outputs": [
    {
     "name": "stdout",
     "output_type": "stream",
     "text": [
      "Number of files : 474\n",
      "0.862869198312\n"
     ]
    }
   ],
   "source": [
    "acc = get_cnf_acuracy(\"apple\")\n",
    "print(acc)"
   ]
  },
  {
   "cell_type": "markdown",
   "metadata": {},
   "source": [
    "### Orange"
   ]
  },
  {
   "cell_type": "code",
   "execution_count": 12,
   "metadata": {},
   "outputs": [
    {
     "name": "stdout",
     "output_type": "stream",
     "text": [
      "Number of files : 289\n",
      "0.747404844291\n"
     ]
    }
   ],
   "source": [
    "acc = get_cnf_acuracy(\"orange\")\n",
    "print(acc)"
   ]
  }
 ],
 "metadata": {
  "kernelspec": {
   "display_name": "Python 3",
   "language": "python",
   "name": "python3"
  },
  "language_info": {
   "codemirror_mode": {
    "name": "ipython",
    "version": 3
   },
   "file_extension": ".py",
   "mimetype": "text/x-python",
   "name": "python",
   "nbconvert_exporter": "python",
   "pygments_lexer": "ipython3",
   "version": "3.5.4"
  }
 },
 "nbformat": 4,
 "nbformat_minor": 2
}
