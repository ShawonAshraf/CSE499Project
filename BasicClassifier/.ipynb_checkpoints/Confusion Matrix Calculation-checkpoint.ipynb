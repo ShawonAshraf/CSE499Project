{
 "cells": [
  {
   "cell_type": "markdown",
   "metadata": {
    "collapsed": true
   },
   "source": [
    "### part - 1 fetch image list"
   ]
  },
  {
   "cell_type": "code",
   "execution_count": 1,
   "metadata": {},
   "outputs": [],
   "source": [
    "import os\n",
    "\n",
    "rootImageDir = \"img_test/\"\n",
    "imageList = os.listdir(rootImageDir)"
   ]
  },
  {
   "cell_type": "code",
   "execution_count": 2,
   "metadata": {},
   "outputs": [
    {
     "data": {
      "text/plain": [
       "['apple23344.jpg',\n",
       " 'apple5.JPG',\n",
       " 'apple6.JPG',\n",
       " 'apple_1114.JPG',\n",
       " 'banana.jpeg',\n",
       " 'banana_2.JPG',\n",
       " 'fazli-mango-500x500.jpg',\n",
       " 'fresh-apple-1212.jpg',\n",
       " 'fresh-banana.jpg',\n",
       " 'green_mangoes.jpg',\n",
       " 'green_mango_2.jpg',\n",
       " 'gvr.jpg',\n",
       " 'mango_001.jpg',\n",
       " 'Mango_Ataulfo.jpg',\n",
       " 'orange1.jpeg',\n",
       " 'orange2.jpg',\n",
       " 'overripe_ataulfo_mango.png',\n",
       " 'ripe_mango_1.jpg',\n",
       " 'ripe_mango_2.jpg',\n",
       " 'rotten_mango.jpg',\n",
       " 'rotten_orange3.jpeg']"
      ]
     },
     "execution_count": 2,
     "metadata": {},
     "output_type": "execute_result"
    }
   ],
   "source": [
    "imageList"
   ]
  },
  {
   "cell_type": "code",
   "execution_count": 3,
   "metadata": {},
   "outputs": [
    {
     "name": "stdout",
     "output_type": "stream",
     "text": [
      "Number of images in test dir =  21\n"
     ]
    }
   ],
   "source": [
    "print(\"Number of images in test dir = \", len(imageList))"
   ]
  },
  {
   "cell_type": "markdown",
   "metadata": {},
   "source": [
    "### part - 2 mark images with  ground truth id"
   ]
  },
  {
   "cell_type": "code",
   "execution_count": 4,
   "metadata": {},
   "outputs": [],
   "source": [
    "labelIDDict = {\n",
    "    \"rotten banana\": 0,\n",
    "    \"rotten apple\": 1,\n",
    "    \"fresh banana\": 2,\n",
    "    \"fresh mango\": 3,\n",
    "    \"fresh orange\": 4,\n",
    "    \"fresh apple\": 5,\n",
    "    \"rotten mango\": 6,\n",
    "    \"rotten orange\": 7\n",
    "}\n",
    "groundTruthIDs = [5,1,1,5,0,0,3,5,2,5,5,5,5,5,4,4,5,5,5,6,7]"
   ]
  },
  {
   "cell_type": "code",
   "execution_count": 5,
   "metadata": {},
   "outputs": [
    {
     "data": {
      "text/plain": [
       "21"
      ]
     },
     "execution_count": 5,
     "metadata": {},
     "output_type": "execute_result"
    }
   ],
   "source": [
    "len(groundTruthIDs)"
   ]
  },
  {
   "cell_type": "markdown",
   "metadata": {},
   "source": [
    "#### part - 3 classifier function"
   ]
  },
  {
   "cell_type": "code",
   "execution_count": 6,
   "metadata": {},
   "outputs": [],
   "source": [
    "import tensorflow as tf\n",
    "\n",
    "os.environ['TF_CPP_MIN_LOG_LEVEL'] = '2'\n",
    "\n",
    "def classify(image_path):\n",
    "    # Read in the image_data\n",
    "    image_data = tf.gfile.FastGFile(image_path, 'rb').read()\n",
    "\n",
    "    # Loads label file, strips off carriage return\n",
    "    label_lines = [line.rstrip() for line\n",
    "                   in tf.gfile.GFile(\"retrained_labels.txt\")]\n",
    "\n",
    "    # label_names = label_lines\n",
    "\n",
    "    # Unpersists graph from file\n",
    "    with tf.gfile.FastGFile(\"retrained_graph.pb\", 'rb') as f:\n",
    "        graph_def = tf.GraphDef()\n",
    "        graph_def.ParseFromString(f.read())\n",
    "        tf.import_graph_def(graph_def, name='')\n",
    "\n",
    "    with tf.Session() as sess:\n",
    "        # Feed the image_data as input to the graph and get first prediction\n",
    "        softmax_tensor = sess.graph.get_tensor_by_name('final_result:0')\n",
    "\n",
    "        predictions = sess.run(softmax_tensor, \\\n",
    "                               {'DecodeJpeg/contents:0': image_data})\n",
    "\n",
    "        # global_pred = predictions\n",
    "\n",
    "        # Sort to show labels of first prediction in order of confidence\n",
    "        top_k = predictions[0].argsort()[-len(predictions[0]):][::-1]\n",
    "        # label_id = top_k\n",
    "\n",
    "        \n",
    "        print('Result for {} :'.format(image_path))\n",
    "        resultDict = {}\n",
    "        for node_id in top_k:\n",
    "            human_string = label_lines[node_id]\n",
    "            score = predictions[0][node_id]\n",
    "#              print('Category : {} \\nScore = {} %'.format(human_string, score * 100))\n",
    "\n",
    "            resultDict[human_string] = score\n",
    "        \n",
    "        #print('Category : {}\\tScore : {}'.format(label_lines[node_id], predictions[0][node_id]))\n",
    "\n",
    "        #print('\\nDONE===========================', end='\\n')\n",
    "        \n",
    "        return resultDict\n"
   ]
  },
  {
   "cell_type": "markdown",
   "metadata": {},
   "source": [
    "#### part - 4 init  prediction array "
   ]
  },
  {
   "cell_type": "code",
   "execution_count": 7,
   "metadata": {},
   "outputs": [],
   "source": [
    "resultDictArray = []"
   ]
  },
  {
   "cell_type": "markdown",
   "metadata": {},
   "source": [
    "#### part - 5 feed images to function"
   ]
  },
  {
   "cell_type": "code",
   "execution_count": 8,
   "metadata": {},
   "outputs": [
    {
     "name": "stdout",
     "output_type": "stream",
     "text": [
      "Result for img_test/apple23344.jpg :\n",
      "Result for img_test/apple5.JPG :\n",
      "Result for img_test/apple6.JPG :\n",
      "Result for img_test/apple_1114.JPG :\n",
      "Result for img_test/banana.jpeg :\n",
      "Result for img_test/banana_2.JPG :\n",
      "Result for img_test/fazli-mango-500x500.jpg :\n",
      "Result for img_test/fresh-apple-1212.jpg :\n",
      "Result for img_test/fresh-banana.jpg :\n",
      "Result for img_test/green_mangoes.jpg :\n",
      "Result for img_test/green_mango_2.jpg :\n",
      "Result for img_test/gvr.jpg :\n",
      "Result for img_test/mango_001.jpg :\n",
      "Result for img_test/Mango_Ataulfo.jpg :\n",
      "Result for img_test/orange1.jpeg :\n",
      "Result for img_test/orange2.jpg :\n",
      "Result for img_test/overripe_ataulfo_mango.png :\n",
      "Result for img_test/ripe_mango_1.jpg :\n",
      "Result for img_test/ripe_mango_2.jpg :\n",
      "Result for img_test/rotten_mango.jpg :\n",
      "Result for img_test/rotten_orange3.jpeg :\n"
     ]
    }
   ],
   "source": [
    "for image in imageList:\n",
    "    p = os.path.join(rootImageDir, image)\n",
    "    \n",
    "    rDict = classify(image_path=p)\n",
    "    \n",
    "    # print(rDict)\n",
    "    \n",
    "    # get max\n",
    "    maxKey = max(rDict.keys(), key=(lambda k: rDict[k]))\n",
    "    resultDictArray.append({maxKey: rDict[maxKey]})"
   ]
  },
  {
   "cell_type": "code",
   "execution_count": 9,
   "metadata": {},
   "outputs": [
    {
     "data": {
      "text/plain": [
       "[{'fresh apple': 0.51201886},\n",
       " {'rotten apple': 0.88880736},\n",
       " {'rotten apple': 0.87151408},\n",
       " {'fresh apple': 0.56395888},\n",
       " {'fresh banana': 0.89208728},\n",
       " {'rotten banana': 0.6282202},\n",
       " {'fresh mango': 0.88224083},\n",
       " {'rotten apple': 0.67588514},\n",
       " {'fresh banana': 0.99573225},\n",
       " {'fresh mango': 0.437235},\n",
       " {'fresh mango': 0.90095538},\n",
       " {'fresh mango': 0.9879908},\n",
       " {'rotten mango': 0.63794512},\n",
       " {'fresh mango': 0.67174166},\n",
       " {'fresh orange': 0.99340206},\n",
       " {'fresh orange': 0.93972635},\n",
       " {'rotten mango': 0.96351552},\n",
       " {'fresh mango': 0.98443758},\n",
       " {'fresh mango': 0.68203932},\n",
       " {'rotten mango': 0.94575709},\n",
       " {'rotten orange': 0.95765567}]"
      ]
     },
     "execution_count": 9,
     "metadata": {},
     "output_type": "execute_result"
    }
   ],
   "source": [
    "resultDictArray"
   ]
  },
  {
   "cell_type": "markdown",
   "metadata": {},
   "source": [
    "#### part - 5 create arrays for confusion matrix"
   ]
  },
  {
   "cell_type": "code",
   "execution_count": 17,
   "metadata": {},
   "outputs": [],
   "source": [
    "y_true = groundTruthIDs\n",
    "y_pred_score = []\n",
    "y_pred = []\n",
    "labels = list(labelIDDict)\n",
    "\n",
    "for r in resultDictArray:\n",
    "    label = list(r.keys())[0]\n",
    "    prediction = r[label]\n",
    "    \n",
    "    \n",
    "    y_pred.append(labelIDDict[label])\n",
    "    y_pred_score.append(prediction)"
   ]
  },
  {
   "cell_type": "code",
   "execution_count": 18,
   "metadata": {},
   "outputs": [
    {
     "data": {
      "text/plain": [
       "[5, 1, 1, 5, 2, 0, 3, 1, 2, 3, 3, 3, 6, 3, 4, 4, 6, 3, 3, 6, 7]"
      ]
     },
     "execution_count": 18,
     "metadata": {},
     "output_type": "execute_result"
    }
   ],
   "source": [
    "y_pred"
   ]
  },
  {
   "cell_type": "code",
   "execution_count": 19,
   "metadata": {},
   "outputs": [
    {
     "data": {
      "text/plain": [
       "[0.51201886,\n",
       " 0.88880736,\n",
       " 0.87151408,\n",
       " 0.56395888,\n",
       " 0.89208728,\n",
       " 0.6282202,\n",
       " 0.88224083,\n",
       " 0.67588514,\n",
       " 0.99573225,\n",
       " 0.437235,\n",
       " 0.90095538,\n",
       " 0.9879908,\n",
       " 0.63794512,\n",
       " 0.67174166,\n",
       " 0.99340206,\n",
       " 0.93972635,\n",
       " 0.96351552,\n",
       " 0.98443758,\n",
       " 0.68203932,\n",
       " 0.94575709,\n",
       " 0.95765567]"
      ]
     },
     "execution_count": 19,
     "metadata": {},
     "output_type": "execute_result"
    }
   ],
   "source": [
    "y_pred_score"
   ]
  },
  {
   "cell_type": "markdown",
   "metadata": {},
   "source": [
    "#### part - 6 confusion matrix"
   ]
  },
  {
   "cell_type": "code",
   "execution_count": 20,
   "metadata": {},
   "outputs": [],
   "source": [
    "from sklearn.metrics import confusion_matrix\n",
    "\n",
    "cnf = confusion_matrix(y_true, y_pred)"
   ]
  },
  {
   "cell_type": "code",
   "execution_count": 21,
   "metadata": {},
   "outputs": [
    {
     "data": {
      "text/plain": [
       "array([[1, 0, 1, 0, 0, 0, 0, 0],\n",
       "       [0, 2, 0, 0, 0, 0, 0, 0],\n",
       "       [0, 0, 1, 0, 0, 0, 0, 0],\n",
       "       [0, 0, 0, 1, 0, 0, 0, 0],\n",
       "       [0, 0, 0, 0, 2, 0, 0, 0],\n",
       "       [0, 1, 0, 6, 0, 2, 2, 0],\n",
       "       [0, 0, 0, 0, 0, 0, 1, 0],\n",
       "       [0, 0, 0, 0, 0, 0, 0, 1]])"
      ]
     },
     "execution_count": 21,
     "metadata": {},
     "output_type": "execute_result"
    }
   ],
   "source": [
    "cnf"
   ]
  },
  {
   "cell_type": "code",
   "execution_count": 22,
   "metadata": {},
   "outputs": [
    {
     "data": {
      "text/plain": [
       "<matplotlib.figure.Figure at 0x7f9ff704dc88>"
      ]
     },
     "metadata": {},
     "output_type": "display_data"
    },
    {
     "data": {
      "image/png": "[encoded data removed]",
      "text/plain": [
       "<matplotlib.figure.Figure at 0x7f9ff47d0898>"
      ]
     },
     "metadata": {},
     "output_type": "display_data"
    }
   ],
   "source": [
    "import seaborn as sn\n",
    "import pandas as pd\n",
    "import matplotlib.pyplot as plt\n",
    "\n",
    "df_cm = pd.DataFrame(cnf, index = [i for i in labels],\n",
    "                  columns = [i for i in labels])\n",
    "plt.figure(figsize = (21,21))\n",
    "# sn.heatmap(df_cm, annot=True)\n",
    "sn.set(font_scale=1.4)#for label size\n",
    "sn.heatmap(df_cm, annot=True,annot_kws={\"size\": 16})\n",
    "\n",
    "plt.show()\n",
    "plt.savefig('confusion_matrix.png', format='png')"
   ]
  }
 ],
 "metadata": {
  "kernelspec": {
   "display_name": "Python 3",
   "language": "python",
   "name": "python3"
  },
  "language_info": {
   "codemirror_mode": {
    "name": "ipython",
    "version": 3
   },
   "file_extension": ".py",
   "mimetype": "text/x-python",
   "name": "python",
   "nbconvert_exporter": "python",
   "pygments_lexer": "ipython3",
   "version": "3.5.4"
  }
 },
 "nbformat": 4,
 "nbformat_minor": 1
}
