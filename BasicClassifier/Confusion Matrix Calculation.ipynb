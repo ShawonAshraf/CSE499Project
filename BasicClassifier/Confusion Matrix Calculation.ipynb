{
 "cells": [
  {
   "cell_type": "markdown",
   "metadata": {
    "collapsed": true
   },
   "source": [
    "### part - 1 fetch image list"
   ]
  },
  {
   "cell_type": "code",
   "execution_count": 1,
   "metadata": {},
   "outputs": [],
   "source": [
    "import os\n",
    "\n",
    "rootImageDir = \"img_test/\"\n",
    "imageList = os.listdir(rootImageDir)"
   ]
  },
  {
   "cell_type": "code",
   "execution_count": 2,
   "metadata": {},
   "outputs": [
    {
     "data": {
      "text/plain": [
       "['apple23344.jpg',\n",
       " 'apple5.JPG',\n",
       " 'apple6.JPG',\n",
       " 'apple_1114.JPG',\n",
       " 'banana.jpeg',\n",
       " 'banana_2.JPG',\n",
       " 'fazli-mango-500x500.jpg',\n",
       " 'fresh-apple-1212.jpg',\n",
       " 'fresh-banana.jpg',\n",
       " 'green_mangoes.jpg',\n",
       " 'green_mango_2.jpg',\n",
       " 'gvr.jpg',\n",
       " 'mango_001.jpg',\n",
       " 'Mango_Ataulfo.jpg',\n",
       " 'orange1.jpeg',\n",
       " 'orange2.jpg',\n",
       " 'overripe_ataulfo_mango.png',\n",
       " 'ripe_mango_1.jpg',\n",
       " 'ripe_mango_2.jpg',\n",
       " 'rotten_mango.jpg',\n",
       " 'rotten_orange3.jpeg']"
      ]
     },
     "execution_count": 2,
     "metadata": {},
     "output_type": "execute_result"
    }
   ],
   "source": [
    "imageList"
   ]
  },
  {
   "cell_type": "code",
   "execution_count": 3,
   "metadata": {},
   "outputs": [
    {
     "name": "stdout",
     "output_type": "stream",
     "text": [
      "Number of images in test dir =  21\n"
     ]
    }
   ],
   "source": [
    "print(\"Number of images in test dir = \", len(imageList))"
   ]
  },
  {
   "cell_type": "markdown",
   "metadata": {},
   "source": [
    "### part - 2 mark images with  ground truth id"
   ]
  },
  {
   "cell_type": "code",
   "execution_count": 9,
   "metadata": {},
   "outputs": [],
   "source": [
    "labelIDDict = {\n",
    "    \"rotten banana\": 0,\n",
    "    \"rotten apple\": 1,\n",
    "    \"fresh banana\": 2,\n",
    "    \"fresh mango\": 3,\n",
    "    \"fresh orange\": 4,\n",
    "    \"fresh apple\": 5,\n",
    "    \"rotten mango\": 6,\n",
    "    \"rotten orange\": 7\n",
    "}\n",
    "groundTruthIDs = [5,1,1,5,0,0,3,5,2,5,5,5,5,5,4,4,5,5,5,6,7]"
   ]
  },
  {
   "cell_type": "code",
   "execution_count": 5,
   "metadata": {},
   "outputs": [
    {
     "data": {
      "text/plain": [
       "21"
      ]
     },
     "execution_count": 5,
     "metadata": {},
     "output_type": "execute_result"
    }
   ],
   "source": [
    "len(groundTruthIDs)"
   ]
  },
  {
   "cell_type": "markdown",
   "metadata": {},
   "source": [
    "#### part - 3 classifier function"
   ]
  },
  {
   "cell_type": "code",
   "execution_count": 6,
   "metadata": {},
   "outputs": [],
   "source": [
    "import tensorflow as tf\n",
    "\n",
    "os.environ['TF_CPP_MIN_LOG_LEVEL'] = '2'\n",
    "\n",
    "def classify(image_path):\n",
    "    # Read in the image_data\n",
    "    image_data = tf.gfile.FastGFile(image_path, 'rb').read()\n",
    "\n",
    "    # Loads label file, strips off carriage return\n",
    "    label_lines = [line.rstrip() for line\n",
    "                   in tf.gfile.GFile(\"retrained_labels.txt\")]\n",
    "\n",
    "    # label_names = label_lines\n",
    "\n",
    "    # Unpersists graph from file\n",
    "    with tf.gfile.FastGFile(\"retrained_graph.pb\", 'rb') as f:\n",
    "        graph_def = tf.GraphDef()\n",
    "        graph_def.ParseFromString(f.read())\n",
    "        tf.import_graph_def(graph_def, name='')\n",
    "\n",
    "    with tf.Session() as sess:\n",
    "        # Feed the image_data as input to the graph and get first prediction\n",
    "        softmax_tensor = sess.graph.get_tensor_by_name('final_result:0')\n",
    "\n",
    "        predictions = sess.run(softmax_tensor, \\\n",
    "                               {'DecodeJpeg/contents:0': image_data})\n",
    "\n",
    "        # global_pred = predictions\n",
    "\n",
    "        # Sort to show labels of first prediction in order of confidence\n",
    "        top_k = predictions[0].argsort()[-len(predictions[0]):][::-1]\n",
    "        # label_id = top_k\n",
    "\n",
    "        \n",
    "        print('Result for {} :'.format(image_path))\n",
    "        resultDict = {}\n",
    "        for node_id in top_k:\n",
    "            human_string = label_lines[node_id]\n",
    "            score = predictions[0][node_id]\n",
    "#              print('Category : {} \\nScore = {} %'.format(human_string, score * 100))\n",
    "\n",
    "            resultDict[human_string] = score\n",
    "        \n",
    "        #print('Category : {}\\tScore : {}'.format(label_lines[node_id], predictions[0][node_id]))\n",
    "\n",
    "        #print('\\nDONE===========================', end='\\n')\n",
    "        \n",
    "        return resultDict\n"
   ]
  },
  {
   "cell_type": "markdown",
   "metadata": {},
   "source": [
    "#### part - 4 init  prediction array "
   ]
  },
  {
   "cell_type": "code",
   "execution_count": 7,
   "metadata": {},
   "outputs": [],
   "source": [
    "resultDictArray = []"
   ]
  },
  {
   "cell_type": "markdown",
   "metadata": {},
   "source": [
    "#### part - 5 feed images to function"
   ]
  },
  {
   "cell_type": "code",
   "execution_count": 8,
   "metadata": {},
   "outputs": [
    {
     "name": "stdout",
     "output_type": "stream",
     "text": [
      "Result for img_test/apple23344.jpg :\n",
      "{'fresh banana': 0.0016447298, 'fresh mango': 0.011154285, 'fresh orange': 0.00064588862, 'rotten banana': 0.00053421187, 'rotten mango': 0.0026178979, 'rotten apple': 0.57078654, 'fresh apple': 0.40817192, 'rotten orange': 0.0044444697}\n",
      "Result for img_test/apple5.JPG :\n",
      "{'fresh banana': 0.001678005, 'fresh mango': 0.0023731666, 'fresh orange': 0.001949102, 'rotten mango': 0.0083205868, 'rotten banana': 0.0028889517, 'rotten apple': 0.86870974, 'fresh apple': 0.0080460329, 'rotten orange': 0.10603435}\n",
      "Result for img_test/apple6.JPG :\n",
      "{'fresh banana': 0.00035585547, 'fresh mango': 0.013973982, 'fresh orange': 0.0002424156, 'rotten banana': 0.0019190868, 'rotten mango': 0.01208409, 'rotten apple': 0.82086515, 'fresh apple': 0.14706071, 'rotten orange': 0.0034987256}\n",
      "Result for img_test/apple_1114.JPG :\n",
      "{'fresh banana': 0.0050007119, 'fresh mango': 0.048250888, 'fresh orange': 0.01808827, 'rotten banana': 0.00072293048, 'rotten mango': 0.0064711613, 'rotten apple': 0.30692062, 'fresh apple': 0.60064912, 'rotten orange': 0.013896305}\n",
      "Result for img_test/banana.jpeg :\n",
      "{'fresh banana': 0.91025442, 'fresh mango': 0.013973721, 'fresh orange': 0.000469716, 'rotten banana': 0.040078703, 'rotten mango': 0.028199118, 'rotten apple': 0.005395676, 'fresh apple': 0.00015826125, 'rotten orange': 0.0014704525}\n",
      "Result for img_test/banana_2.JPG :\n",
      "{'fresh banana': 0.091117561, 'fresh mango': 0.036543481, 'fresh orange': 0.00051379786, 'rotten mango': 0.20215663, 'rotten banana': 0.65875828, 'rotten apple': 0.01019884, 'fresh apple': 0.00026678844, 'rotten orange': 0.00044463016}\n",
      "Result for img_test/fazli-mango-500x500.jpg :\n",
      "{'fresh banana': 0.0070423749, 'fresh mango': 0.85829455, 'fresh orange': 0.00055011548, 'rotten banana': 0.00013509307, 'rotten mango': 0.12315501, 'rotten apple': 0.0074723577, 'fresh apple': 0.0032571375, 'rotten orange': 9.3376999e-05}\n",
      "Result for img_test/fresh-apple-1212.jpg :\n",
      "{'fresh banana': 6.1003353e-05, 'fresh mango': 0.0046891207, 'fresh orange': 0.00011487256, 'rotten banana': 0.00086300547, 'rotten mango': 0.0030397095, 'rotten apple': 0.6374796, 'fresh apple': 0.32507175, 'rotten orange': 0.028680967}\n",
      "Result for img_test/fresh-banana.jpg :\n",
      "{'fresh banana': 0.99594861, 'fresh mango': 0.00023981776, 'fresh orange': 2.9619839e-06, 'rotten banana': 0.0037749165, 'rotten mango': 3.0042143e-05, 'rotten apple': 1.2692996e-06, 'fresh apple': 6.4752022e-08, 'rotten orange': 2.3443647e-06}\n",
      "Result for img_test/green_mangoes.jpg :\n",
      "{'fresh banana': 0.010297765, 'fresh mango': 0.45023522, 'fresh orange': 0.0096627884, 'rotten banana': 0.0022361113, 'rotten mango': 0.11265545, 'rotten apple': 0.25955537, 'fresh apple': 0.15179983, 'rotten orange': 0.0035574727}\n",
      "Result for img_test/green_mango_2.jpg :\n",
      "{'fresh banana': 0.0066363011, 'fresh mango': 0.89267141, 'fresh orange': 0.0015864741, 'rotten banana': 5.3094507e-05, 'rotten mango': 0.0020626772, 'rotten apple': 0.0056744399, 'fresh apple': 0.090980776, 'rotten orange': 0.0003348148}\n",
      "Result for img_test/gvr.jpg :\n",
      "{'fresh banana': 0.0014424718, 'fresh mango': 0.98497492, 'fresh orange': 0.00043534912, 'rotten banana': 4.2954571e-06, 'rotten mango': 0.00062804541, 'rotten apple': 0.00078706507, 'fresh apple': 0.011663816, 'rotten orange': 6.3962136e-05}\n",
      "Result for img_test/mango_001.jpg :\n",
      "{'fresh banana': 0.00056329468, 'fresh mango': 0.14389861, 'fresh orange': 0.0004477124, 'rotten banana': 8.0466853e-05, 'rotten mango': 0.64319116, 'rotten apple': 0.17945917, 'fresh apple': 0.02694378, 'rotten orange': 0.0054158224}\n",
      "Result for img_test/Mango_Ataulfo.jpg :\n",
      "{'fresh banana': 0.0016973616, 'fresh mango': 0.73269016, 'fresh orange': 0.17258674, 'rotten banana': 6.9622016e-05, 'rotten mango': 0.016906584, 'rotten apple': 7.4753661e-05, 'fresh apple': 0.00010011325, 'rotten orange': 0.075874701}\n",
      "Result for img_test/orange1.jpeg :\n",
      "{'fresh banana': 0.0010187391, 'fresh mango': 0.010522978, 'fresh orange': 0.96394855, 'rotten mango': 0.00011768538, 'rotten banana': 0.00012601103, 'rotten apple': 0.00025136038, 'fresh apple': 0.00016447117, 'rotten orange': 0.023850186}\n",
      "Result for img_test/orange2.jpg :\n",
      "{'fresh banana': 0.0046378002, 'fresh mango': 0.0052839443, 'fresh orange': 0.90573412, 'rotten banana': 0.0002229854, 'rotten mango': 0.00029254018, 'rotten apple': 0.00076522102, 'fresh apple': 0.0016969569, 'rotten orange': 0.081366405}\n",
      "Result for img_test/overripe_ataulfo_mango.png :\n",
      "{'fresh banana': 0.00015927048, 'fresh mango': 0.027207416, 'fresh orange': 3.337421e-05, 'rotten banana': 0.00025230105, 'rotten mango': 0.96960372, 'rotten apple': 0.00029027296, 'fresh apple': 8.8941679e-06, 'rotten orange': 0.0024447711}\n",
      "Result for img_test/ripe_mango_1.jpg :\n",
      "{'fresh banana': 0.00043085037, 'fresh mango': 0.98011738, 'fresh orange': 0.0037451731, 'rotten banana': 1.5845937e-05, 'rotten mango': 0.0064229188, 'rotten apple': 0.0019397624, 'fresh apple': 0.00068063894, 'rotten orange': 0.0066473885}\n",
      "Result for img_test/ripe_mango_2.jpg :\n",
      "{'fresh banana': 0.0003612657, 'fresh mango': 0.71640837, 'fresh orange': 0.0036751605, 'rotten banana': 0.00042825617, 'rotten mango': 0.079543523, 'rotten apple': 0.017033696, 'fresh apple': 0.0049555576, 'rotten orange': 0.17759429}\n",
      "Result for img_test/rotten_mango.jpg :\n",
      "{'fresh banana': 6.8819536e-05, 'fresh mango': 0.0023322548, 'fresh orange': 0.00037551174, 'rotten banana': 0.00011634953, 'rotten mango': 0.93772632, 'rotten apple': 0.014499293, 'fresh apple': 7.6817632e-06, 'rotten orange': 0.044873815}\n",
      "Result for img_test/rotten_orange3.jpeg :\n",
      "{'fresh banana': 0.00011611653, 'fresh mango': 0.02594682, 'fresh orange': 0.00058794144, 'rotten banana': 1.4486043e-05, 'rotten mango': 0.010069348, 'rotten apple': 0.00046282209, 'fresh apple': 6.4252657e-05, 'rotten orange': 0.96273816}\n"
     ]
    }
   ],
   "source": [
    "for image in imageList:\n",
    "    p = os.path.join(rootImageDir, image)\n",
    "    \n",
    "    rDict = classify(image_path=p)\n",
    "    \n",
    "    print(rDict)\n",
    "    \n",
    "    # get max\n",
    "    maxKey = max(rDict.keys(), key=(lambda k: rDict[k]))\n",
    "    resultDictArray.append({maxKey: rDict[maxKey]})"
   ]
  },
  {
   "cell_type": "code",
   "execution_count": 10,
   "metadata": {},
   "outputs": [
    {
     "data": {
      "text/plain": [
       "[{'rotten apple': 0.57078654},\n",
       " {'rotten apple': 0.86870974},\n",
       " {'rotten apple': 0.82086515},\n",
       " {'fresh apple': 0.60064912},\n",
       " {'fresh banana': 0.91025442},\n",
       " {'rotten banana': 0.65875828},\n",
       " {'fresh mango': 0.85829455},\n",
       " {'rotten apple': 0.6374796},\n",
       " {'fresh banana': 0.99594861},\n",
       " {'fresh mango': 0.45023522},\n",
       " {'fresh mango': 0.89267141},\n",
       " {'fresh mango': 0.98497492},\n",
       " {'rotten mango': 0.64319116},\n",
       " {'fresh mango': 0.73269016},\n",
       " {'fresh orange': 0.96394855},\n",
       " {'fresh orange': 0.90573412},\n",
       " {'rotten mango': 0.96960372},\n",
       " {'fresh mango': 0.98011738},\n",
       " {'fresh mango': 0.71640837},\n",
       " {'rotten mango': 0.93772632},\n",
       " {'rotten orange': 0.96273816}]"
      ]
     },
     "execution_count": 10,
     "metadata": {},
     "output_type": "execute_result"
    }
   ],
   "source": [
    "resultDictArray"
   ]
  },
  {
   "cell_type": "markdown",
   "metadata": {},
   "source": [
    "#### part - 5 create arrays for confusion matrix"
   ]
  },
  {
   "cell_type": "code",
   "execution_count": 19,
   "metadata": {},
   "outputs": [],
   "source": [
    "y_true = groundTruthIDs\n",
    "y_pred_score = []\n",
    "y_pred = []\n",
    "labels = []\n",
    "\n",
    "for r in resultDictArray:\n",
    "    label = list(r.keys())[0]\n",
    "    prediction = r[label]\n",
    "    \n",
    "    labels.append(label)\n",
    "    y_pred.append(labelIDDict[label])\n",
    "    y_pred_score.append(prediction)"
   ]
  },
  {
   "cell_type": "code",
   "execution_count": 20,
   "metadata": {},
   "outputs": [
    {
     "data": {
      "text/plain": [
       "[1, 1, 1, 5, 2, 0, 3, 1, 2, 3, 3, 3, 6, 3, 4, 4, 6, 3, 3, 6, 7]"
      ]
     },
     "execution_count": 20,
     "metadata": {},
     "output_type": "execute_result"
    }
   ],
   "source": [
    "y_pred"
   ]
  },
  {
   "cell_type": "code",
   "execution_count": 21,
   "metadata": {},
   "outputs": [
    {
     "data": {
      "text/plain": [
       "[0.57078654,\n",
       " 0.86870974,\n",
       " 0.82086515,\n",
       " 0.60064912,\n",
       " 0.91025442,\n",
       " 0.65875828,\n",
       " 0.85829455,\n",
       " 0.6374796,\n",
       " 0.99594861,\n",
       " 0.45023522,\n",
       " 0.89267141,\n",
       " 0.98497492,\n",
       " 0.64319116,\n",
       " 0.73269016,\n",
       " 0.96394855,\n",
       " 0.90573412,\n",
       " 0.96960372,\n",
       " 0.98011738,\n",
       " 0.71640837,\n",
       " 0.93772632,\n",
       " 0.96273816]"
      ]
     },
     "execution_count": 21,
     "metadata": {},
     "output_type": "execute_result"
    }
   ],
   "source": [
    "y_pred_score"
   ]
  },
  {
   "cell_type": "markdown",
   "metadata": {},
   "source": [
    "#### part - 6 confusion matrix"
   ]
  },
  {
   "cell_type": "code",
   "execution_count": 23,
   "metadata": {},
   "outputs": [],
   "source": [
    "from sklearn.metrics import confusion_matrix\n",
    "\n",
    "cnf = confusion_matrix(y_true, y_pred)"
   ]
  },
  {
   "cell_type": "code",
   "execution_count": 24,
   "metadata": {},
   "outputs": [
    {
     "data": {
      "text/plain": [
       "array([[1, 0, 1, 0, 0, 0, 0, 0],\n",
       "       [0, 2, 0, 0, 0, 0, 0, 0],\n",
       "       [0, 0, 1, 0, 0, 0, 0, 0],\n",
       "       [0, 0, 0, 1, 0, 0, 0, 0],\n",
       "       [0, 0, 0, 0, 2, 0, 0, 0],\n",
       "       [0, 2, 0, 6, 0, 1, 2, 0],\n",
       "       [0, 0, 0, 0, 0, 0, 1, 0],\n",
       "       [0, 0, 0, 0, 0, 0, 0, 1]])"
      ]
     },
     "execution_count": 24,
     "metadata": {},
     "output_type": "execute_result"
    }
   ],
   "source": [
    "cnf"
   ]
  },
  {
   "cell_type": "code",
   "execution_count": 26,
   "metadata": {},
   "outputs": [],
   "source": [
    "x = cnf.ravel()"
   ]
  },
  {
   "cell_type": "code",
   "execution_count": 27,
   "metadata": {},
   "outputs": [
    {
     "data": {
      "text/plain": [
       "array([1, 0, 1, 0, 0, 0, 0, 0, 0, 2, 0, 0, 0, 0, 0, 0, 0, 0, 1, 0, 0, 0, 0,\n",
       "       0, 0, 0, 0, 1, 0, 0, 0, 0, 0, 0, 0, 0, 2, 0, 0, 0, 0, 2, 0, 6, 0, 1,\n",
       "       2, 0, 0, 0, 0, 0, 0, 0, 1, 0, 0, 0, 0, 0, 0, 0, 0, 1])"
      ]
     },
     "execution_count": 27,
     "metadata": {},
     "output_type": "execute_result"
    }
   ],
   "source": [
    "x"
   ]
  },
  {
   "cell_type": "code",
   "execution_count": 33,
   "metadata": {},
   "outputs": [],
   "source": [
    "import matplotlib.pyplot as plt\n",
    "import numpy as np\n",
    "import itertools\n",
    "\n",
    "def plot_confusion_matrix(cm, classes,\n",
    "                          normalize=False,\n",
    "                          title='Confusion matrix',\n",
    "                          cmap=plt.cm.Blues):\n",
    "    \"\"\"\n",
    "    This function prints and plots the confusion matrix.\n",
    "    Normalization can be applied by setting `normalize=True`.\n",
    "    \"\"\"\n",
    "    if normalize:\n",
    "        cm = cm.astype('float') / cm.sum(axis=1)[:, np.newaxis]\n",
    "        print(\"Normalized confusion matrix\")\n",
    "    else:\n",
    "        print('Confusion matrix, without normalization')\n",
    "\n",
    "    print(cm)\n",
    "\n",
    "    plt.imshow(cm, interpolation='nearest', cmap=cmap)\n",
    "    plt.title(title)\n",
    "    plt.colorbar()\n",
    "    tick_marks = np.arange(len(classes))\n",
    "    plt.xticks(tick_marks, classes, rotation=45)\n",
    "    plt.yticks(tick_marks, classes)\n",
    "\n",
    "    fmt = '.2f' if normalize else 'd'\n",
    "    thresh = cm.max() / 2.\n",
    "    for i, j in itertools.product(range(cm.shape[0]), range(cm.shape[1])):\n",
    "        plt.text(j, i, format(cm[i, j], fmt),\n",
    "                 horizontalalignment=\"center\",\n",
    "                 color=\"white\" if cm[i, j] > thresh else \"black\")\n",
    "\n",
    "    plt.tight_layout()\n",
    "    plt.ylabel('True label')\n",
    "    plt.xlabel('Predicted label')"
   ]
  },
  {
   "cell_type": "code",
   "execution_count": 34,
   "metadata": {},
   "outputs": [
    {
     "name": "stdout",
     "output_type": "stream",
     "text": [
      "Confusion matrix, without normalization\n",
      "[[1 0 1 0 0 0 0 0]\n",
      " [0 2 0 0 0 0 0 0]\n",
      " [0 0 1 0 0 0 0 0]\n",
      " [0 0 0 1 0 0 0 0]\n",
      " [0 0 0 0 2 0 0 0]\n",
      " [0 2 0 6 0 1 2 0]\n",
      " [0 0 0 0 0 0 1 0]\n",
      " [0 0 0 0 0 0 0 1]]\n"
     ]
    }
   ],
   "source": [
    "plt.figure()\n",
    "plot_confusion_matrix(cnf, classes=labels,\n",
    "                      title='Confusion matrix')"
   ]
  },
  {
   "cell_type": "code",
   "execution_count": 35,
   "metadata": {},
   "outputs": [
    {
     "data": {
      "image/png": "[encoded data removed]",
      "text/plain": [
       "<matplotlib.figure.Figure at 0x7f5b9ff54b00>"
      ]
     },
     "metadata": {},
     "output_type": "display_data"
    },
    {
     "data": {
      "image/png": "[encoded data removed]",
      "text/plain": [
       "<matplotlib.figure.Figure at 0x7f5b9d657d68>"
      ]
     },
     "metadata": {},
     "output_type": "display_data"
    },
    {
     "data": {
      "image/png": "[encoded data removed]",
      "text/plain": [
       "<matplotlib.figure.Figure at 0x7f5b9d591a20>"
      ]
     },
     "metadata": {},
     "output_type": "display_data"
    }
   ],
   "source": [
    "plt.show()"
   ]
  },
  {
   "cell_type": "code",
   "execution_count": null,
   "metadata": {},
   "outputs": [],
   "source": []
  }
 ],
 "metadata": {
  "kernelspec": {
   "display_name": "Python 3",
   "language": "python",
   "name": "python3"
  },
  "language_info": {
   "codemirror_mode": {
    "name": "ipython",
    "version": 3
   },
   "file_extension": ".py",
   "mimetype": "text/x-python",
   "name": "python",
   "nbconvert_exporter": "python",
   "pygments_lexer": "ipython3",
   "version": "3.5.4"
  }
 },
 "nbformat": 4,
 "nbformat_minor": 1
}
